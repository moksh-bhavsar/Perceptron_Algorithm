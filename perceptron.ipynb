{
 "cells": [
  {
   "cell_type": "code",
   "execution_count": 1,
   "id": "f29aed02",
   "metadata": {},
   "outputs": [],
   "source": [
    "import pandas as pd\n",
    "import numpy as np\n",
    "from scipy.io import arff"
   ]
  },
  {
   "cell_type": "code",
   "execution_count": 2,
   "id": "788f81f1",
   "metadata": {},
   "outputs": [],
   "source": [
    "data = arff.loadarff('datasets/risk-train.arff')\n",
    "df = pd.DataFrame(data[0])\n",
    "del df['Z_METHODE']\n",
    "del df['Z_CARD_ART']\n",
    "del df['WEEKDAY_ORDER']"
   ]
  },
  {
   "cell_type": "code",
   "execution_count": 3,
   "id": "15daaec4",
   "metadata": {},
   "outputs": [],
   "source": [
    "def decision_classification(weight: np.array, value: np.array):\n",
    "    answer = weight*value\n",
    "    activation = np.sum(answer)\n",
    "    \n",
    "    return 1 if (activation > 0) else -1"
   ]
  },
  {
   "cell_type": "code",
   "execution_count": 4,
   "id": "9a428ff0",
   "metadata": {},
   "outputs": [],
   "source": [
    "def string_to_int(dataset: pd.DataFrame):\n",
    "    df.CLASS = df.CLASS.replace({b'yes':1.0, b'no': -1.0, np.nan:0, b'?': 0.0})\n",
    "    df.B_EMAIL = df.B_EMAIL.replace({b'yes':1.0, b'no': -1.0, np.nan:0,b'?': 0.0})\n",
    "    df.B_TELEFON = df.B_TELEFON.replace({b'yes':1.0, b'no': -1.0, np.nan:0, b'?': 0.0})\n",
    "    df.FLAG_LRIDENTISCH = df.FLAG_LRIDENTISCH.replace({b'yes':1.0, b'no': -1.0, np.nan:0, b'?': 0.0})\n",
    "    df.FLAG_NEWSLETTER = df.FLAG_NEWSLETTER.replace({b'yes':1.0, b'no': -1.0, np.nan:0, b'?': 0.0})\n",
    "    df.Z_CARD_VALID = df.Z_CARD_VALID.replace({np.nan: 0.0, b'?':0.0})\n",
    "    df.Z_LAST_NAME = df.Z_LAST_NAME.replace({b'yes':1.0, b'no': -1.0, np.nan:0, b'?': 0.0})\n",
    "    df.VALUE_ORDER = df.VALUE_ORDER.replace({np.nan:0, b'?': 0.0})\n",
    "    df.AMOUNT_ORDER = df.AMOUNT_ORDER.replace({np.nan:0, b'?': 0.0})\n",
    "    df.CHK_LADR = df.CHK_LADR.replace({b'yes':1.0, b'no': -1.0, np.nan:0, b'?': 0.0})\n",
    "    df.CHK_RADR = df.CHK_RADR.replace({b'yes':1.0, b'no': -1.0, np.nan:0, b'?': 0.0})\n",
    "    df.CHK_KTO = df.CHK_KTO.replace({b'yes':1.0, b'no': -1.0, np.nan:0, b'?': 0.0})\n",
    "    df.CHK_CARD = df.CHK_CARD.replace({b'yes':1.0, b'no': -1.0, np.nan:0, b'?': 0.0})\n",
    "    df.CHK_COOKIE = df.CHK_COOKIE.replace({b'yes':1.0, b'no': -1.0, np.nan:0, b'?': 0.0})\n",
    "    df.CHK_IP = df.CHK_IP.replace({b'yes':1.0, b'no': -1.0, np.nan:0, b'?': 0.0})\n",
    "    df.FAIL_LPLZ = df.FAIL_LPLZ.replace({b'yes':1.0, b'no': -1.0, np.nan:0, b'?': 0.0})\n",
    "    df.FAIL_LORT = df.FAIL_LORT.replace({b'yes':1.0, b'no': -1.0, np.nan:0, b'?': 0.0})\n",
    "    df.FAIL_LPLZORTMATCH = df.FAIL_LPLZORTMATCH.replace({b'yes':1.0, b'no': -1.0, np.nan:0, b'?': 0.0})\n",
    "    df.FAIL_RPLZ = df.FAIL_RPLZ.replace({b'yes':1.0, b'no': -1.0, np.nan:0, b'?': 0.0})\n",
    "    df.FAIL_RORT = df.FAIL_RORT.replace({b'yes':1.0, b'no': -1.0, np.nan:0, b'?': 0.0})\n",
    "    df.FAIL_RPLZORTMATCH = df.FAIL_RPLZORTMATCH.replace({b'yes':1.0, b'no': -1.0, np.nan:0, b'?': 0.0})\n",
    "    df.SESSION_TIME = df.SESSION_TIME.replace({np.nan:0, b'?': 0.0})\n",
    "    df.NEUKUNDE = df.NEUKUNDE.replace({b'yes':1.0, b'no': -1.0, np.nan:0, b'?': 0.0})\n",
    "    df.AMOUNT_ORDER_PRE = df.AMOUNT_ORDER_PRE.replace({np.nan:0, b'?': 0.0})\n",
    "    df.VALUE_ORDER_PRE = df.VALUE_ORDER_PRE.replace({np.nan: 0.0, b'?': 0.0})\n",
    "    df.MAHN_AKT = df.MAHN_AKT.replace({np.nan:0, b'?': 0.0})\n",
    "    df.MAHN_HOECHST = df.MAHN_HOECHST.replace({np.nan:0, b'?': 0.0})"
   ]
  },
  {
   "cell_type": "code",
   "execution_count": 9,
   "id": "5e85405b",
   "metadata": {},
   "outputs": [],
   "source": [
    "def perceptron(df:pd.DataFrame, learningRate: float, changing:bool, percentage: float):\n",
    "    # preprocessing the data\n",
    "    string_to_int(df)\n",
    "\n",
    "    # intializing a numpy array full of 0's\n",
    "    w = np.zeros((1,df.shape[1]-1))\n",
    "    learning_rate = learningRate\n",
    "    num_correct = 0\n",
    "    num_wrong = 0\n",
    "\n",
    "    # splitting the data into train and test\n",
    "    train, test = np.split(df, [int(len(df)*percentage)])\n",
    "\n",
    "    # creating a new file to save the results of the algorithm in a csv format\n",
    "    output = open(\"Task6_results.csv\", \"w\")\n",
    "    output.write(\"actual, predicted\\n\")\n",
    "\n",
    "    # looping through the data in train set and getting the weight vector\n",
    "    for item in train.index:\n",
    "        v = np.array([df.loc[item][1:]])\n",
    "\n",
    "        # implemented changing learning rate\n",
    "        if (changing):\n",
    "            if (decision_classification(w,v) != df.loc[item]['CLASS']):\n",
    "                learning_rate = learning_rate - 0.05\n",
    "                w = w + learning_rate*df.loc[item]['CLASS']*v\n",
    "            else:\n",
    "                learning_rate = learning_rate + 0.05\n",
    "        # for fixed learning rate\n",
    "        else:\n",
    "            if (decision_classification(w,v) != df.loc[item]['CLASS']):\n",
    "                w = w + learning_rate*df.loc[item]['CLASS']*v\n",
    "\n",
    "    # testing the weight vector with test data to get accuracy of the model.\n",
    "    for item in test.index:\n",
    "        actual = decision_classification(w,v)\n",
    "        predicted = df.loc[item]['CLASS']\n",
    "        if (actual != predicted):\n",
    "            num_wrong += 1\n",
    "        else:\n",
    "            num_correct += 1\n",
    "\n",
    "        output.write(str(actual) + \",\" + str(predicted) + \"\\n\")\n",
    "\n",
    "    output.close()\n",
    "    \n",
    "    return num_correct, num_wrong"
   ]
  },
  {
   "cell_type": "code",
   "execution_count": 10,
   "id": "ed09de5b",
   "metadata": {},
   "outputs": [],
   "source": [
    "correct, wrong = perceptron(df, 0.25, True, 0.7)"
   ]
  },
  {
   "cell_type": "code",
   "execution_count": 11,
   "id": "b396454a",
   "metadata": {},
   "outputs": [
    {
     "name": "stdout",
     "output_type": "stream",
     "text": [
      "8489 511\n"
     ]
    }
   ],
   "source": [
    "print(correct, wrong)"
   ]
  },
  {
   "cell_type": "code",
   "execution_count": 12,
   "id": "7439b35e",
   "metadata": {},
   "outputs": [
    {
     "name": "stdout",
     "output_type": "stream",
     "text": [
      "94.32222222222222\n"
     ]
    }
   ],
   "source": [
    "print(correct/(correct+wrong)*100)"
   ]
  },
  {
   "cell_type": "code",
   "execution_count": null,
   "id": "c4c1dbe8",
   "metadata": {},
   "outputs": [],
   "source": []
  }
 ],
 "metadata": {
  "kernelspec": {
   "display_name": "Python 3 (ipykernel)",
   "language": "python",
   "name": "python3"
  },
  "language_info": {
   "codemirror_mode": {
    "name": "ipython",
    "version": 3
   },
   "file_extension": ".py",
   "mimetype": "text/x-python",
   "name": "python",
   "nbconvert_exporter": "python",
   "pygments_lexer": "ipython3",
   "version": "3.8.9"
  }
 },
 "nbformat": 4,
 "nbformat_minor": 5
}
